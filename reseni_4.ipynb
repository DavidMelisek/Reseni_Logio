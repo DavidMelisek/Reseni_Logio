{
 "cells": [
  {
   "cell_type": "code",
   "execution_count": 31,
   "metadata": {},
   "outputs": [
    {
     "data": {
      "text/plain": [
       "ID_zavodu_vychozi  ID_zavodu_cilove\n",
       "ZP10               ZP20                187532\n",
       "                   ZP30                143354\n",
       "ZP20               ZP10                216874\n",
       "                   ZP30                169439\n",
       "ZP30               ZP10                165992\n",
       "                   ZP20                206030\n",
       "Name: Objem_v_kg, dtype: int64"
      ]
     },
     "execution_count": 31,
     "metadata": {},
     "output_type": "execute_result"
    }
   ],
   "source": [
    "import pandas as pd\n",
    "xls = pd.ExcelFile('Excel_test_dlouhy.xlsx')\n",
    "prevoz = pd.read_excel(xls, 'transport_zavody')\n",
    "prevoz.groupby(['ID_zavodu_vychozi','ID_zavodu_cilove']).sum()['Objem_v_kg']"
   ]
  },
  {
   "cell_type": "code",
   "execution_count": null,
   "metadata": {},
   "outputs": [],
   "source": []
  }
 ],
 "metadata": {
  "kernelspec": {
   "display_name": "Python 3",
   "language": "python",
   "name": "python3"
  },
  "language_info": {
   "codemirror_mode": {
    "name": "ipython",
    "version": 3
   },
   "file_extension": ".py",
   "mimetype": "text/x-python",
   "name": "python",
   "nbconvert_exporter": "python",
   "pygments_lexer": "ipython3",
   "version": "3.8.5"
  }
 },
 "nbformat": 4,
 "nbformat_minor": 4
}
